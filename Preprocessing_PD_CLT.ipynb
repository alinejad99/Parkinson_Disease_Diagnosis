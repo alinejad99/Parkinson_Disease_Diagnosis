{
  "cells": [
    {
      "cell_type": "code",
      "execution_count": null,
      "metadata": {
        "id": "K3ooqKGDzuwQ"
      },
      "outputs": [],
      "source": [
        "!pip install mat73\n",
        "!pip install entropy"
      ]
    },
    {
      "cell_type": "code",
      "source": [
        "from google.colab import drive\n",
        "drive.mount('/content/drive')"
      ],
      "metadata": {
        "colab": {
          "base_uri": "https://localhost:8080/"
        },
        "id": "UzHas8jmmwt6",
        "outputId": "2371df21-aab8-4344-b65a-eec6e619f227"
      },
      "execution_count": 54,
      "outputs": [
        {
          "output_type": "stream",
          "name": "stdout",
          "text": [
            "Drive already mounted at /content/drive; to attempt to forcibly remount, call drive.mount(\"/content/drive\", force_remount=True).\n"
          ]
        }
      ]
    },
    {
      "cell_type": "code",
      "execution_count": null,
      "metadata": {
        "id": "_I_wR-sWwvum"
      },
      "outputs": [],
      "source": [
        "import numpy as np\n",
        "import mat73\n",
        "from scipy.stats import skew, kurtosis\n",
        "from scipy.signal import find_peaks\n",
        "from scipy.fft import fft, fftshift\n",
        "from scipy.signal import welch, lombscargle\n",
        "from sklearn.metrics import mutual_info_score\n",
        "from scipy.stats import skew, kurtosis, pearsonr, entropy\n",
        "from scipy.signal import welch\n",
        "from collections import OrderedDict\n",
        "from scipy import signal\n",
        "from numpy.linalg import inv, svd\n",
        "from scipy.linalg import solve_toeplitz\n",
        "from numpy import dot\n",
        "from scipy.io import savemat"
      ]
    },
    {
      "cell_type": "code",
      "execution_count": null,
      "metadata": {
        "id": "_ozJbFn82FOD",
        "colab": {
          "base_uri": "https://localhost:8080/"
        },
        "outputId": "5afe8a7a-00a1-411a-fe62-78d737129519"
      },
      "outputs": [
        {
          "output_type": "stream",
          "name": "stdout",
          "text": [
            "Drive already mounted at /content/drive; to attempt to forcibly remount, call drive.mount(\"/content/drive\", force_remount=True).\n",
            "[Errno 2] No such file or directory: 'drive/MyDrive/EEG_Project/Data_main/'\n",
            "/content/drive/MyDrive/EEG_Project/Data_main\n"
          ]
        }
      ],
      "source": [
        "from google.colab import drive\n",
        "drive.mount('/content/drive')\n",
        "%cd drive/MyDrive/EEG_Project/Data_main/\n"
      ]
    },
    {
      "cell_type": "markdown",
      "metadata": {
        "id": "8jv4DKB3rImN"
      },
      "source": [
        "###**Peak first PD and CLT from dataset**"
      ]
    },
    {
      "cell_type": "code",
      "execution_count": null,
      "metadata": {
        "id": "DNujnWok_SxA"
      },
      "outputs": [],
      "source": [
        "# Define functions to compute various features\n",
        "\n",
        "def var_feature(data):\n",
        "    return np.var(data, axis=1)  # Compute variance along the time axis\n",
        "\n",
        "def skewness_feature(data):\n",
        "    return skew(data, axis=1)  # Compute skewness along the time axis\n",
        "\n",
        "def corr_feature(data):\n",
        "    n_channels = data.shape[0]\n",
        "    corr = np.zeros((n_channels, n_channels))\n",
        "    for i in range(n_channels):\n",
        "        for j in range(i, n_channels):\n",
        "            corr_ij, _ = pearsonr(data[i,:,:].flatten(), data[j,:,:].flatten())\n",
        "            corr[i,j] = corr_ij\n",
        "            corr[j,i] = corr_ij\n",
        "    return corr  # Compute Pearson correlation matrix of channels across time\n",
        "\n",
        "def kurtosis_feature(data):\n",
        "    return kurtosis(data, axis=1)  # Compute kurtosis along the time axis\n",
        "\n",
        "def histogram_feature(data):\n",
        "    n_bins = 10  # Define number of histogram bins\n",
        "    hist_feats = np.zeros((63, 10))\n",
        "    for i in range(data.shape[0]):\n",
        "        hist, _ = np.histogram(data[i,:,:].flatten(), bins=n_bins)\n",
        "        hist_feats[i, :] = hist\n",
        "    # return np.concatenate(hist_feats, axis=0)  # Concatenate histogram features for each channel\n",
        "    return hist_feats\n",
        "\n",
        "def ar_coeff_feature(data):\n",
        "    # Compute autoregressive (AR) model coefficients using Burg method\n",
        "    n_coeffs = 4  # Define number of AR model coefficients to compute\n",
        "    ar_coeffs = np.zeros((data.shape[0], n_coeffs))\n",
        "    for i in range(data.shape[0]):\n",
        "        for j in range(data.shape[1]):\n",
        "            r = np.correlate(data[i,j,:], data[i,j,:], mode='full')\n",
        "            r = r[data[i,j,:].size - 1:]\n",
        "            b = r[1:n_coeffs+1]\n",
        "            r = r[:n_coeffs]\n",
        "            ar_coeffs[i,:] = solve_toeplitz((r, b), r)\n",
        "        ar_coeffs[i,:] /= data.shape[1]\n",
        "    return ar_coeffs\n",
        "\n",
        "\n",
        "def entropy_feature(data):\n",
        "    return entropy(data, axis=1)  # Compute Shannon entropy along the time axis\n",
        "\n",
        "def freq_ratio_feature(data):\n",
        "    # Compute power spectral ratio of each frequency band to whole frequency band (0.5 31 Hz)\n",
        "    freqs, pxx = welch(data, fs=500, nperseg=256, noverlap=128, nfft=2048, axis=1, detrend=False)\n",
        "    delta_band = np.where((freqs >= 0.5) & (freqs <= 4))[0]\n",
        "    theta_band = np.where((freqs >= 4) & (freqs <= 8))[0]\n",
        "    alpha_band = np.where((freqs >= 8) & (freqs <= 11))[0]\n",
        "    beta_band = np.where((freqs >= 11) & (freqs <= 31))[0]\n",
        "    whole_band = np.where((freqs >= 0.5) & (freqs <= 31))[0]\n",
        "    power_delta = np.sum(pxx[:,:,delta_band], axis=2)\n",
        "    power_theta = np.sum(pxx[:,:,theta_band], axis=2)\n",
        "    power_alpha = np.sum(pxx[:,:,alpha_band], axis=2)\n",
        "    power_beta = np.sum(pxx[:,:,beta_band], axis=2)\n",
        "    power_whole = np.sum(pxx[:,:,whole_band], axis=2)\n",
        "    power_band = np.concatenate(np.concatenate(np.concatenate(power_delta, power_theta),power_alpha),power_beta)\n",
        "\n",
        "    return power_band / power_whole"
      ]
    },
    {
      "cell_type": "code",
      "execution_count": null,
      "metadata": {
        "colab": {
          "base_uri": "https://localhost:8080/",
          "height": 260
        },
        "id": "rVy1cotJp5CY",
        "outputId": "82b60276-d313-45bb-c8a1-666fee883a73"
      },
      "outputs": [
        {
          "output_type": "error",
          "ename": "TypeError",
          "evalue": "ignored",
          "traceback": [
            "\u001b[0;31m---------------------------------------------------------------------------\u001b[0m",
            "\u001b[0;31mTypeError\u001b[0m                                 Traceback (most recent call last)",
            "\u001b[0;32m<ipython-input-45-facc79d57e25>\u001b[0m in \u001b[0;36m<cell line: 9>\u001b[0;34m()\u001b[0m\n\u001b[1;32m      7\u001b[0m \u001b[0mFeatures_train\u001b[0m\u001b[0;34m[\u001b[0m\u001b[0;34m'ar_coeff'\u001b[0m\u001b[0;34m]\u001b[0m \u001b[0;34m=\u001b[0m \u001b[0mar_coeff_feature\u001b[0m\u001b[0;34m(\u001b[0m\u001b[0mtrain_data\u001b[0m\u001b[0;34m)\u001b[0m\u001b[0;34m\u001b[0m\u001b[0;34m\u001b[0m\u001b[0m\n\u001b[1;32m      8\u001b[0m \u001b[0mFeatures_train\u001b[0m\u001b[0;34m[\u001b[0m\u001b[0;34m'entropy'\u001b[0m\u001b[0;34m]\u001b[0m \u001b[0;34m=\u001b[0m \u001b[0mentropy_feature\u001b[0m\u001b[0;34m(\u001b[0m\u001b[0mtrain_data\u001b[0m\u001b[0;34m)\u001b[0m\u001b[0;34m\u001b[0m\u001b[0;34m\u001b[0m\u001b[0m\n\u001b[0;32m----> 9\u001b[0;31m \u001b[0mFeatures_train\u001b[0m\u001b[0;34m[\u001b[0m\u001b[0;34m'freq_ratio'\u001b[0m\u001b[0;34m]\u001b[0m \u001b[0;34m=\u001b[0m \u001b[0mfreq_ratio_feature\u001b[0m\u001b[0;34m(\u001b[0m\u001b[0mtrain_data\u001b[0m\u001b[0;34m)\u001b[0m\u001b[0;34m\u001b[0m\u001b[0;34m\u001b[0m\u001b[0m\n\u001b[0m",
            "\u001b[0;32m<ipython-input-44-e189ceac3ae7>\u001b[0m in \u001b[0;36mfreq_ratio_feature\u001b[0;34m(data)\u001b[0m\n\u001b[1;32m     60\u001b[0m     \u001b[0mpower_beta\u001b[0m \u001b[0;34m=\u001b[0m \u001b[0mnp\u001b[0m\u001b[0;34m.\u001b[0m\u001b[0msum\u001b[0m\u001b[0;34m(\u001b[0m\u001b[0mpxx\u001b[0m\u001b[0;34m[\u001b[0m\u001b[0;34m:\u001b[0m\u001b[0;34m,\u001b[0m\u001b[0;34m:\u001b[0m\u001b[0;34m,\u001b[0m\u001b[0mbeta_band\u001b[0m\u001b[0;34m]\u001b[0m\u001b[0;34m,\u001b[0m \u001b[0maxis\u001b[0m\u001b[0;34m=\u001b[0m\u001b[0;36m2\u001b[0m\u001b[0;34m)\u001b[0m\u001b[0;34m\u001b[0m\u001b[0;34m\u001b[0m\u001b[0m\n\u001b[1;32m     61\u001b[0m     \u001b[0mpower_whole\u001b[0m \u001b[0;34m=\u001b[0m \u001b[0mnp\u001b[0m\u001b[0;34m.\u001b[0m\u001b[0msum\u001b[0m\u001b[0;34m(\u001b[0m\u001b[0mpxx\u001b[0m\u001b[0;34m[\u001b[0m\u001b[0;34m:\u001b[0m\u001b[0;34m,\u001b[0m\u001b[0;34m:\u001b[0m\u001b[0;34m,\u001b[0m\u001b[0mwhole_band\u001b[0m\u001b[0;34m]\u001b[0m\u001b[0;34m,\u001b[0m \u001b[0maxis\u001b[0m\u001b[0;34m=\u001b[0m\u001b[0;36m2\u001b[0m\u001b[0;34m)\u001b[0m\u001b[0;34m\u001b[0m\u001b[0;34m\u001b[0m\u001b[0m\n\u001b[0;32m---> 62\u001b[0;31m     \u001b[0mpower_band\u001b[0m \u001b[0;34m=\u001b[0m \u001b[0mnp\u001b[0m\u001b[0;34m.\u001b[0m\u001b[0mconcatenate\u001b[0m\u001b[0;34m(\u001b[0m\u001b[0mnp\u001b[0m\u001b[0;34m.\u001b[0m\u001b[0mconcatenate\u001b[0m\u001b[0;34m(\u001b[0m\u001b[0mnp\u001b[0m\u001b[0;34m.\u001b[0m\u001b[0mconcatenate\u001b[0m\u001b[0;34m(\u001b[0m\u001b[0mpower_delta\u001b[0m\u001b[0;34m,\u001b[0m \u001b[0mpower_theta\u001b[0m\u001b[0;34m)\u001b[0m\u001b[0;34m,\u001b[0m\u001b[0mpower_alpha\u001b[0m\u001b[0;34m)\u001b[0m\u001b[0;34m,\u001b[0m\u001b[0mpower_beta\u001b[0m\u001b[0;34m)\u001b[0m\u001b[0;34m\u001b[0m\u001b[0;34m\u001b[0m\u001b[0m\n\u001b[0m\u001b[1;32m     63\u001b[0m \u001b[0;34m\u001b[0m\u001b[0m\n\u001b[1;32m     64\u001b[0m     \u001b[0;32mreturn\u001b[0m \u001b[0mpower_band\u001b[0m \u001b[0;34m/\u001b[0m \u001b[0mpower_whole\u001b[0m\u001b[0;34m\u001b[0m\u001b[0;34m\u001b[0m\u001b[0m\n",
            "\u001b[0;32m/usr/local/lib/python3.10/dist-packages/numpy/core/overrides.py\u001b[0m in \u001b[0;36mconcatenate\u001b[0;34m(*args, **kwargs)\u001b[0m\n",
            "\u001b[0;31mTypeError\u001b[0m: only integer scalar arrays can be converted to a scalar index"
          ]
        }
      ],
      "source": [
        "Features_train = OrderedDict()\n",
        "Features_train['var'] = var_feature(train_data)\n",
        "Features_train['skewness'] = skewness_feature(train_data)\n",
        "Features_train['corr'] = corr_feature(train_data)\n",
        "Features_train['kurtosis'] = kurtosis_feature(train_data)\n",
        "Features_train['hist'] = histogram_feature(train_data)\n",
        "Features_train['ar_coeff'] = ar_coeff_feature(train_data)\n",
        "Features_train['entropy'] = entropy_feature(train_data)\n",
        "Features_train['freq_ratio'] = freq_ratio_feature(train_data)"
      ]
    },
    {
      "cell_type": "code",
      "source": [
        "var_feature(train_data).shape"
      ],
      "metadata": {
        "colab": {
          "base_uri": "https://localhost:8080/"
        },
        "id": "Ag2n3YRe8PXW",
        "outputId": "1f9dbbbe-1371-4c8b-f994-7fda00d83ce5"
      },
      "execution_count": null,
      "outputs": [
        {
          "output_type": "execute_result",
          "data": {
            "text/plain": [
              "(63, 245)"
            ]
          },
          "metadata": {},
          "execution_count": 25
        }
      ]
    },
    {
      "cell_type": "code",
      "source": [
        "skewness_feature(train_data).shape"
      ],
      "metadata": {
        "colab": {
          "base_uri": "https://localhost:8080/"
        },
        "id": "r8qhpOhe8Srp",
        "outputId": "3c452118-e886-4ced-f4ba-573ecdd05695"
      },
      "execution_count": null,
      "outputs": [
        {
          "output_type": "execute_result",
          "data": {
            "text/plain": [
              "(63, 245)"
            ]
          },
          "metadata": {},
          "execution_count": 26
        }
      ]
    },
    {
      "cell_type": "code",
      "source": [
        "corr_feature(train_data).shape"
      ],
      "metadata": {
        "colab": {
          "base_uri": "https://localhost:8080/"
        },
        "id": "fkpSiKCQ8YDK",
        "outputId": "9d15d28e-f9d0-42ab-b992-f4054b50156d"
      },
      "execution_count": null,
      "outputs": [
        {
          "output_type": "execute_result",
          "data": {
            "text/plain": [
              "(63, 63)"
            ]
          },
          "metadata": {},
          "execution_count": 27
        }
      ]
    },
    {
      "cell_type": "code",
      "source": [
        "kurtosis_feature(train_data).shape"
      ],
      "metadata": {
        "colab": {
          "base_uri": "https://localhost:8080/"
        },
        "id": "gF1_mG2x8d4G",
        "outputId": "224b50cf-9531-460d-9e6e-af572f20d66c"
      },
      "execution_count": null,
      "outputs": [
        {
          "output_type": "execute_result",
          "data": {
            "text/plain": [
              "(63, 245)"
            ]
          },
          "metadata": {},
          "execution_count": 28
        }
      ]
    },
    {
      "cell_type": "code",
      "source": [
        "histogram_feature(train_data).shape"
      ],
      "metadata": {
        "colab": {
          "base_uri": "https://localhost:8080/"
        },
        "id": "H568lKA68k9J",
        "outputId": "52ff0d4d-7bc8-4f7e-d747-0c8b567f844a"
      },
      "execution_count": null,
      "outputs": [
        {
          "output_type": "execute_result",
          "data": {
            "text/plain": [
              "(63, 10)"
            ]
          },
          "metadata": {},
          "execution_count": 33
        }
      ]
    },
    {
      "cell_type": "code",
      "source": [
        "ar_coeff_feature(train_data).shape"
      ],
      "metadata": {
        "colab": {
          "base_uri": "https://localhost:8080/"
        },
        "id": "cP4alsMo90Dm",
        "outputId": "383f8c09-1d7b-4192-f854-69b590673c96"
      },
      "execution_count": null,
      "outputs": [
        {
          "output_type": "execute_result",
          "data": {
            "text/plain": [
              "(63, 4)"
            ]
          },
          "metadata": {},
          "execution_count": 35
        }
      ]
    },
    {
      "cell_type": "code",
      "source": [
        "entropy_feature(train_data).shape"
      ],
      "metadata": {
        "colab": {
          "base_uri": "https://localhost:8080/"
        },
        "id": "pHFFQ4aj91W4",
        "outputId": "50e8cde3-cb4e-4e5c-9f0e-cbd34f436b15"
      },
      "execution_count": null,
      "outputs": [
        {
          "output_type": "execute_result",
          "data": {
            "text/plain": [
              "(63, 245)"
            ]
          },
          "metadata": {},
          "execution_count": 36
        }
      ]
    },
    {
      "cell_type": "code",
      "source": [
        "freq_ratio_feature(train_data).shape"
      ],
      "metadata": {
        "colab": {
          "base_uri": "https://localhost:8080/"
        },
        "id": "LjHne_5W98gT",
        "outputId": "33a327e4-bff8-4798-9f31-29cb31de7764"
      },
      "execution_count": null,
      "outputs": [
        {
          "output_type": "execute_result",
          "data": {
            "text/plain": [
              "(4, 63, 1025)"
            ]
          },
          "metadata": {},
          "execution_count": 37
        }
      ]
    },
    {
      "cell_type": "code",
      "execution_count": null,
      "metadata": {
        "id": "dGrBu7amqCIu",
        "colab": {
          "base_uri": "https://localhost:8080/",
          "height": 260
        },
        "outputId": "543b03c1-bb91-40de-c75b-96179e058eeb"
      },
      "outputs": [
        {
          "output_type": "error",
          "ename": "ValueError",
          "evalue": "ignored",
          "traceback": [
            "\u001b[0;31m---------------------------------------------------------------------------\u001b[0m",
            "\u001b[0;31mValueError\u001b[0m                                Traceback (most recent call last)",
            "\u001b[0;32m<ipython-input-34-e0b0df1db7f9>\u001b[0m in \u001b[0;36m<cell line: 1>\u001b[0;34m()\u001b[0m\n\u001b[0;32m----> 1\u001b[0;31m \u001b[0mFeature_matrix_train\u001b[0m \u001b[0;34m=\u001b[0m \u001b[0mnp\u001b[0m\u001b[0;34m.\u001b[0m\u001b[0mhstack\u001b[0m\u001b[0;34m(\u001b[0m\u001b[0mlist\u001b[0m\u001b[0;34m(\u001b[0m\u001b[0mFeatures_train\u001b[0m\u001b[0;34m.\u001b[0m\u001b[0mvalues\u001b[0m\u001b[0;34m(\u001b[0m\u001b[0;34m)\u001b[0m\u001b[0;34m)\u001b[0m\u001b[0;34m)\u001b[0m\u001b[0;34m\u001b[0m\u001b[0;34m\u001b[0m\u001b[0m\n\u001b[0m\u001b[1;32m      2\u001b[0m \u001b[0mprint\u001b[0m\u001b[0;34m(\u001b[0m\u001b[0;34m\"Shape of feature matrix:\"\u001b[0m\u001b[0;34m,\u001b[0m \u001b[0mFeature_matrix_train\u001b[0m\u001b[0;34m.\u001b[0m\u001b[0mshape\u001b[0m\u001b[0;34m)\u001b[0m\u001b[0;34m\u001b[0m\u001b[0;34m\u001b[0m\u001b[0m\n",
            "\u001b[0;32m/usr/local/lib/python3.10/dist-packages/numpy/core/overrides.py\u001b[0m in \u001b[0;36mhstack\u001b[0;34m(*args, **kwargs)\u001b[0m\n",
            "\u001b[0;32m/usr/local/lib/python3.10/dist-packages/numpy/core/shape_base.py\u001b[0m in \u001b[0;36mhstack\u001b[0;34m(tup)\u001b[0m\n\u001b[1;32m    343\u001b[0m         \u001b[0;32mreturn\u001b[0m \u001b[0m_nx\u001b[0m\u001b[0;34m.\u001b[0m\u001b[0mconcatenate\u001b[0m\u001b[0;34m(\u001b[0m\u001b[0marrs\u001b[0m\u001b[0;34m,\u001b[0m \u001b[0;36m0\u001b[0m\u001b[0;34m)\u001b[0m\u001b[0;34m\u001b[0m\u001b[0;34m\u001b[0m\u001b[0m\n\u001b[1;32m    344\u001b[0m     \u001b[0;32melse\u001b[0m\u001b[0;34m:\u001b[0m\u001b[0;34m\u001b[0m\u001b[0;34m\u001b[0m\u001b[0m\n\u001b[0;32m--> 345\u001b[0;31m         \u001b[0;32mreturn\u001b[0m \u001b[0m_nx\u001b[0m\u001b[0;34m.\u001b[0m\u001b[0mconcatenate\u001b[0m\u001b[0;34m(\u001b[0m\u001b[0marrs\u001b[0m\u001b[0;34m,\u001b[0m \u001b[0;36m1\u001b[0m\u001b[0;34m)\u001b[0m\u001b[0;34m\u001b[0m\u001b[0;34m\u001b[0m\u001b[0m\n\u001b[0m\u001b[1;32m    346\u001b[0m \u001b[0;34m\u001b[0m\u001b[0m\n\u001b[1;32m    347\u001b[0m \u001b[0;34m\u001b[0m\u001b[0m\n",
            "\u001b[0;32m/usr/local/lib/python3.10/dist-packages/numpy/core/overrides.py\u001b[0m in \u001b[0;36mconcatenate\u001b[0;34m(*args, **kwargs)\u001b[0m\n",
            "\u001b[0;31mValueError\u001b[0m: all the input arrays must have same number of dimensions, but the array at index 0 has 2 dimension(s) and the array at index 7 has 3 dimension(s)"
          ]
        }
      ],
      "source": [
        "Feature_matrix_train = np.hstack(list(Features_train.values()))\n",
        "print(\"Shape of feature matrix:\", Feature_matrix_train.shape)"
      ]
    }
  ],
  "metadata": {
    "colab": {
      "provenance": []
    },
    "kernelspec": {
      "display_name": "Python 3",
      "name": "python3"
    },
    "language_info": {
      "name": "python"
    }
  },
  "nbformat": 4,
  "nbformat_minor": 0
}